{
 "cells": [
  {
   "cell_type": "code",
   "execution_count": 10,
   "id": "8298a173",
   "metadata": {},
   "outputs": [
    {
     "name": "stdout",
     "output_type": "stream",
     "text": [
      "       2021全球百大帥哥前9名\n",
      "0       Paing Takhon\n",
      "1    Chris Hemsworth\n",
      "2            BTS 金泰亨\n",
      "3  Timothée Chalamet\n",
      "4            BTS 田柾國\n",
      "5  Lucien Laviscount\n",
      "6     Dean Schneider\n",
      "7          PewDiePie\n",
      "8        Jason Momoa\n"
     ]
    }
   ],
   "source": [
    "# 全球百大帥哥前十名\n",
    "import pandas as pd\n",
    "\n",
    "# read csv file\n",
    "world= pd.read_csv(\"全球.csv\")\n",
    "\n",
    "#test\n",
    "print(world)"
   ]
  },
  {
   "cell_type": "code",
   "execution_count": 12,
   "id": "78f4a228",
   "metadata": {},
   "outputs": [
    {
     "name": "stdout",
     "output_type": "stream",
     "text": [
      "  2021亞太區百大帥哥排行前9名\n",
      "0          BTS 金泰亨\n",
      "1          BTS JIN\n",
      "2              車銀優\n",
      "3              WIN\n",
      "4           Bright\n",
      "5              李敏鎬\n",
      "6               肖戰\n",
      "7              李準基\n",
      "8              崔珉豪\n"
     ]
    }
   ],
   "source": [
    "# 亞太區百大帥哥前十名\n",
    "import pandas as pd\n",
    "\n",
    "# read csv file\n",
    "asia= pd.read_csv(\"亞太區.csv\")\n",
    "\n",
    "#test\n",
    "print(asia)"
   ]
  },
  {
   "cell_type": "code",
   "execution_count": 13,
   "id": "f73217db",
   "metadata": {},
   "outputs": [
    {
     "name": "stdout",
     "output_type": "stream",
     "text": [
      "{'Chris Hemsworth', 'BTS 田柾國', 'Timothée Chalamet', 'BTS 金泰亨', 'Paing Takhon', 'Jason Momoa', 'PewDiePie', 'Lucien Laviscount', 'Dean Schneider'}\n",
      "{'李敏鎬', 'BTS 金泰亨', '崔珉豪', 'BTS JIN', '肖戰', '李準基', 'WIN', 'Bright', '車銀優'}\n"
     ]
    }
   ],
   "source": [
    "#設定資料\n",
    "set_world = set(world[\"2021全球百大帥哥前9名\"])\n",
    "set_asia = set(asia[\"2021亞太區百大帥哥排行前9名\"])\n",
    "#test\n",
    "print(set_world)\n",
    "print(set_asia)"
   ]
  },
  {
   "cell_type": "code",
   "execution_count": 19,
   "id": "cb103f15",
   "metadata": {},
   "outputs": [
    {
     "name": "stdout",
     "output_type": "stream",
     "text": [
      "{'Chris Hemsworth', 'BTS 田柾國', 'Timothée Chalamet', '李敏鎬', 'BTS 金泰亨', '崔珉豪', 'BTS JIN', 'Paing Takhon', '肖戰', 'Jason Momoa', '李準基', 'WIN', 'PewDiePie', 'Lucien Laviscount', 'Bright', '車銀優', 'Dean Schneider'}\n"
     ]
    }
   ],
   "source": [
    "#取聯集(上榜全球百大帥哥或亞太區百大帥哥的人)\n",
    "print(set_world | set_asia)"
   ]
  },
  {
   "cell_type": "code",
   "execution_count": 20,
   "id": "587963c0",
   "metadata": {},
   "outputs": [
    {
     "name": "stdout",
     "output_type": "stream",
     "text": [
      "{'BTS 金泰亨'}\n"
     ]
    }
   ],
   "source": [
    "#取交集(上榜全球百大帥哥與亞太區百大帥哥的人)\n",
    "print(set_world &  set_asia)"
   ]
  },
  {
   "cell_type": "code",
   "execution_count": 22,
   "id": "ebb84619",
   "metadata": {},
   "outputs": [
    {
     "name": "stdout",
     "output_type": "stream",
     "text": [
      "{'Chris Hemsworth', 'BTS 田柾國', 'Timothée Chalamet', 'Paing Takhon', 'Jason Momoa', 'PewDiePie', 'Lucien Laviscount', 'Dean Schneider'}\n"
     ]
    }
   ],
   "source": [
    "#差集(上榜全球百大帥哥但沒有上榜亞太區百大帥哥的人)\n",
    "print(set_world - set_asia)"
   ]
  },
  {
   "cell_type": "code",
   "execution_count": 23,
   "id": "0ea789e0",
   "metadata": {},
   "outputs": [
    {
     "name": "stdout",
     "output_type": "stream",
     "text": [
      "{'李敏鎬', '崔珉豪', 'BTS JIN', '肖戰', '李準基', 'WIN', 'Bright', '車銀優'}\n"
     ]
    }
   ],
   "source": [
    "#差集(上榜亞太區百大帥哥但沒有上榜全球百大帥哥的人)\n",
    "print(set_asia - set_world)"
   ]
  },
  {
   "cell_type": "code",
   "execution_count": 24,
   "id": "54b66383",
   "metadata": {},
   "outputs": [
    {
     "name": "stdout",
     "output_type": "stream",
     "text": [
      "{'Chris Hemsworth', 'BTS 田柾國', 'Timothée Chalamet', '李敏鎬', '崔珉豪', 'BTS JIN', 'Paing Takhon', '肖戰', 'Jason Momoa', '李準基', 'WIN', 'PewDiePie', 'Lucien Laviscount', 'Bright', '車銀優', 'Dean Schneider'}\n"
     ]
    }
   ],
   "source": [
    "#對稱差級(只上榜全球百大帥哥或是只上榜世界百大帥哥的人)\n",
    "print(set_asia ^set_world)"
   ]
  },
  {
   "cell_type": "code",
   "execution_count": null,
   "id": "cd91a15d",
   "metadata": {},
   "outputs": [],
   "source": []
  }
 ],
 "metadata": {
  "kernelspec": {
   "display_name": "Python 3 (ipykernel)",
   "language": "python",
   "name": "python3"
  },
  "language_info": {
   "codemirror_mode": {
    "name": "ipython",
    "version": 3
   },
   "file_extension": ".py",
   "mimetype": "text/x-python",
   "name": "python",
   "nbconvert_exporter": "python",
   "pygments_lexer": "ipython3",
   "version": "3.9.12"
  }
 },
 "nbformat": 4,
 "nbformat_minor": 5
}
