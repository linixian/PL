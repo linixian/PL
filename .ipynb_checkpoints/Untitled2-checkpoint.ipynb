{
 "cells": [
  {
   "cell_type": "code",
   "execution_count": 1,
   "id": "bc27ec04",
   "metadata": {},
   "outputs": [],
   "source": [
    "# 將資料存成json檔並放入dict中\n",
    "import json"
   ]
  },
  {
   "cell_type": "code",
   "execution_count": 2,
   "id": "8b64a316",
   "metadata": {},
   "outputs": [
    {
     "data": {
      "text/plain": [
       "dict"
      ]
     },
     "execution_count": 2,
     "metadata": {},
     "output_type": "execute_result"
    }
   ],
   "source": [
    "test = open('btslist.json',encoding=\"utf8\")\n",
    "Data = json.load(test)\n",
    "type(Data)"
   ]
  },
  {
   "cell_type": "code",
   "execution_count": 3,
   "id": "48afb6d5",
   "metadata": {},
   "outputs": [
    {
     "data": {
      "text/plain": [
       "dict_items([('明星', [{'姓名': '金碩珍', '身高': 179, '體重': 63, '年紀': 29, '精通的外語': '日文'}, {'姓名': '閔玧其', '身高': 174, '體重': 59, '年紀': 29, '精通的外語': '日文'}, {'姓名': '金泰亨', '身高': 178, '體重': 62, '年紀': 26, '精通的外語': '日文'}, {'姓名': '鄭號錫', '身高': 177, '體重': 65, '年紀': 28, '精通的外語': '日文'}, {'姓名': '田柾國', '身高': 178, '體重': 66, '年紀': 25, '精通的外語': '英文'}, {'姓名': '金南俊', '身高': 181, '體重': 67, '年紀': 28, '精通的外語': '英文、日文'}, {'姓名': '朴智旻', '身高': 173, '體重': 61, '年紀': 27, '精通的外語': ''}])])"
      ]
     },
     "execution_count": 3,
     "metadata": {},
     "output_type": "execute_result"
    }
   ],
   "source": [
    "# 讀出完整字典做確認\n",
    "Data.items()"
   ]
  },
  {
   "cell_type": "code",
   "execution_count": 5,
   "id": "b268f7f2",
   "metadata": {},
   "outputs": [
    {
     "data": {
      "text/plain": [
       "[{'姓名': '金碩珍', '身高': 179, '體重': 63, '年紀': 29, '精通的外語': '日文'},\n",
       " {'姓名': '閔玧其', '身高': 174, '體重': 59, '年紀': 29, '精通的外語': '日文'},\n",
       " {'姓名': '金泰亨', '身高': 178, '體重': 62, '年紀': 26, '精通的外語': '日文'},\n",
       " {'姓名': '鄭號錫', '身高': 177, '體重': 65, '年紀': 28, '精通的外語': '日文'},\n",
       " {'姓名': '田柾國', '身高': 178, '體重': 66, '年紀': 25, '精通的外語': '英文'},\n",
       " {'姓名': '金南俊', '身高': 181, '體重': 67, '年紀': 28, '精通的外語': '英文、日文'},\n",
       " {'姓名': '朴智旻', '身高': 173, '體重': 61, '年紀': 27, '精通的外語': ''}]"
      ]
     },
     "execution_count": 5,
     "metadata": {},
     "output_type": "execute_result"
    }
   ],
   "source": [
    "temp = Data.get(\"明星\")\n",
    "temp"
   ]
  },
  {
   "cell_type": "code",
   "execution_count": 6,
   "id": "855ae680",
   "metadata": {},
   "outputs": [],
   "source": [
    "# 填入想查詢的明星姓名\n",
    "ask = \"金泰亨\""
   ]
  },
  {
   "cell_type": "code",
   "execution_count": 13,
   "id": "c9b68084",
   "metadata": {},
   "outputs": [
    {
     "name": "stdout",
     "output_type": "stream",
     "text": [
      "金泰亨 是 62 kg\n"
     ]
    }
   ],
   "source": [
    "# 查詢體重\n",
    "for i in temp:\n",
    "    if ask == i.get('姓名'):\n",
    "        print(ask, '是', i.get('體重'),'kg')"
   ]
  },
  {
   "cell_type": "code",
   "execution_count": 9,
   "id": "8d10ae30",
   "metadata": {},
   "outputs": [
    {
     "data": {
      "text/plain": [
       "[179, 174, 178, 177, 178, 181, 173]"
      ]
     },
     "execution_count": 9,
     "metadata": {},
     "output_type": "execute_result"
    }
   ],
   "source": [
    "# 排序身高\n",
    "allheight = []\n",
    "for i in temp:\n",
    "    allheight.append(i.get(\"身高\"))\n",
    "allheight"
   ]
  },
  {
   "cell_type": "code",
   "execution_count": 10,
   "id": "4dbc3e28",
   "metadata": {},
   "outputs": [],
   "source": [
    "allheight_enumerate = enumerate(allheight, start = 1)"
   ]
  },
  {
   "cell_type": "code",
   "execution_count": 11,
   "id": "a7f6d880",
   "metadata": {},
   "outputs": [
    {
     "data": {
      "text/plain": [
       "[(6, 181), (1, 179), (3, 178), (5, 178), (4, 177), (2, 174), (7, 173)]"
      ]
     },
     "execution_count": 11,
     "metadata": {},
     "output_type": "execute_result"
    }
   ],
   "source": [
    "allheight_enumerate_sorted = sorted(allheight_enumerate, key = lambda s: s[1], reverse = True)\n",
    "allheight_enumerate_sorted"
   ]
  },
  {
   "cell_type": "code",
   "execution_count": 12,
   "id": "aea38d34",
   "metadata": {},
   "outputs": [
    {
     "data": {
      "text/plain": [
       "6"
      ]
     },
     "execution_count": 12,
     "metadata": {},
     "output_type": "execute_result"
    }
   ],
   "source": [
    "#第一個\n",
    "allheight_enumerate_sorted[0][0]"
   ]
  },
  {
   "cell_type": "code",
   "execution_count": 14,
   "id": "c8e24401",
   "metadata": {},
   "outputs": [
    {
     "name": "stdout",
     "output_type": "stream",
     "text": [
      "金南俊 是 181 公分\n",
      "金碩珍 是 179 公分\n",
      "金泰亨 是 178 公分\n",
      "田柾國 是 178 公分\n",
      "鄭號錫 是 177 公分\n",
      "閔玧其 是 174 公分\n",
      "朴智旻 是 173 公分\n"
     ]
    }
   ],
   "source": [
    "#印出排序過後的身高與姓名\n",
    "for i in allheight_enumerate_sorted:\n",
    "    j = i[0] -1\n",
    "    print(temp[j].get(\"姓名\"),\"是\",temp[j].get(\"身高\"),\"公分\")"
   ]
  },
  {
   "cell_type": "code",
   "execution_count": null,
   "id": "baf4566d",
   "metadata": {},
   "outputs": [],
   "source": []
  }
 ],
 "metadata": {
  "kernelspec": {
   "display_name": "Python 3 (ipykernel)",
   "language": "python",
   "name": "python3"
  },
  "language_info": {
   "codemirror_mode": {
    "name": "ipython",
    "version": 3
   },
   "file_extension": ".py",
   "mimetype": "text/x-python",
   "name": "python",
   "nbconvert_exporter": "python",
   "pygments_lexer": "ipython3",
   "version": "3.9.12"
  }
 },
 "nbformat": 4,
 "nbformat_minor": 5
}
