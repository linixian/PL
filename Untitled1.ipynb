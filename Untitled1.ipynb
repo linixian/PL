{
 "cells": [
  {
   "cell_type": "code",
   "execution_count": 1,
   "id": "6418b20a",
   "metadata": {},
   "outputs": [],
   "source": [
    "# 將資料存成json檔並放入dict中\n",
    "import json"
   ]
  },
  {
   "cell_type": "code",
   "execution_count": 5,
   "id": "83be7cb4",
   "metadata": {},
   "outputs": [],
   "source": [
    "test = open('bts資料表.json',encoding=\"utf8\")"
   ]
  },
  {
   "cell_type": "code",
   "execution_count": 6,
   "id": "984820e2",
   "metadata": {},
   "outputs": [],
   "source": [
    "Data = json.load(test)"
   ]
  },
  {
   "cell_type": "code",
   "execution_count": 8,
   "id": "8d335ba3",
   "metadata": {},
   "outputs": [
    {
     "data": {
      "text/plain": [
       "list"
      ]
     },
     "execution_count": 8,
     "metadata": {},
     "output_type": "execute_result"
    }
   ],
   "source": [
    "type(Data)"
   ]
  },
  {
   "cell_type": "code",
   "execution_count": null,
   "id": "f69b30ba",
   "metadata": {},
   "outputs": [],
   "source": [
    " Data.items()"
   ]
  }
 ],
 "metadata": {
  "kernelspec": {
   "display_name": "Python 3 (ipykernel)",
   "language": "python",
   "name": "python3"
  },
  "language_info": {
   "codemirror_mode": {
    "name": "ipython",
    "version": 3
   },
   "file_extension": ".py",
   "mimetype": "text/x-python",
   "name": "python",
   "nbconvert_exporter": "python",
   "pygments_lexer": "ipython3",
   "version": "3.9.12"
  }
 },
 "nbformat": 4,
 "nbformat_minor": 5
}
